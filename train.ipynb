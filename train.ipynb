{
  "nbformat": 4,
  "nbformat_minor": 0,
  "metadata": {
    "colab": {
      "name": "Final_hepsi_burada.ipynb",
      "provenance": []
    },
    "kernelspec": {
      "name": "python3",
      "display_name": "Python 3"
    },
    "language_info": {
      "name": "python"
    }
  },
  "cells": [
    {
      "cell_type": "markdown",
      "metadata": {
        "id": "7QikAFVzmpxv"
      },
      "source": [
        "# Data processing"
      ]
    },
    {
      "cell_type": "code",
      "metadata": {
        "colab": {
          "base_uri": "https://localhost:8080/"
        },
        "id": "O_JUZYurmkfL",
        "outputId": "489fdaeb-a648-4a9c-c5a6-b0d11536b410"
      },
      "source": [
        "!unzip /content/drive/MyDrive/data.zip "
      ],
      "execution_count": null,
      "outputs": [
        {
          "output_type": "stream",
          "name": "stdout",
          "text": [
            "Archive:  /content/drive/MyDrive/data.zip\n",
            "   creating: data/\n",
            "  inflating: data/.DS_Store          \n",
            "  inflating: __MACOSX/data/._.DS_Store  \n",
            "  inflating: data/events.json        \n",
            "  inflating: __MACOSX/data/._events.json  \n",
            "  inflating: data/meta.json          \n",
            "  inflating: __MACOSX/data/._meta.json  \n"
          ]
        }
      ]
    },
    {
      "cell_type": "code",
      "metadata": {
        "id": "eQ-Hwd17mtuv"
      },
      "source": [
        "import json\n",
        "# read meta data\n",
        "with open('data/meta.json', 'r') as fp:\n",
        "    products = json.load(fp)"
      ],
      "execution_count": null,
      "outputs": []
    },
    {
      "cell_type": "code",
      "metadata": {
        "colab": {
          "base_uri": "https://localhost:8080/",
          "height": 424
        },
        "id": "x26Bk1JgnqD-",
        "outputId": "b9599cd7-3b06-412c-c02d-d8aeaeaa1410"
      },
      "source": [
        "import pandas as pd\n",
        "\n",
        "meta_product_ids = []\n",
        "meta_product_name = []\n",
        "meta_product_subcategory = []\n",
        "meta_product_category = []\n",
        "for product in products['meta']:\n",
        "    meta_product_ids.append(product['productid'])\n",
        "    meta_product_name.append(product['name'])\n",
        "    meta_product_subcategory.append(product['subcategory'])\n",
        "    meta_product_category.append(product['category'])\n",
        "\n",
        "del products\n",
        "products = pd.DataFrame()\n",
        "products['product_id'] = meta_product_ids\n",
        "products['name'] = meta_product_name\n",
        "products['subcategory'] = meta_product_subcategory\n",
        "products['category'] = meta_product_category\n",
        "del meta_product_ids, meta_product_name, meta_product_subcategory, meta_product_category\n",
        "products"
      ],
      "execution_count": null,
      "outputs": [
        {
          "output_type": "execute_result",
          "data": {
            "text/html": [
              "<div>\n",
              "<style scoped>\n",
              "    .dataframe tbody tr th:only-of-type {\n",
              "        vertical-align: middle;\n",
              "    }\n",
              "\n",
              "    .dataframe tbody tr th {\n",
              "        vertical-align: top;\n",
              "    }\n",
              "\n",
              "    .dataframe thead th {\n",
              "        text-align: right;\n",
              "    }\n",
              "</style>\n",
              "<table border=\"1\" class=\"dataframe\">\n",
              "  <thead>\n",
              "    <tr style=\"text-align: right;\">\n",
              "      <th></th>\n",
              "      <th>product_id</th>\n",
              "      <th>name</th>\n",
              "      <th>subcategory</th>\n",
              "      <th>category</th>\n",
              "    </tr>\n",
              "  </thead>\n",
              "  <tbody>\n",
              "    <tr>\n",
              "      <th>0</th>\n",
              "      <td>HBV00000AX6LR</td>\n",
              "      <td>Palette Kalıcı Doğal Renkler 10-4 PAPATYA</td>\n",
              "      <td>Saç Bakımı</td>\n",
              "      <td>Kişisel Bakım</td>\n",
              "    </tr>\n",
              "    <tr>\n",
              "      <th>1</th>\n",
              "      <td>HBV00000BSAQG</td>\n",
              "      <td>Best Pet Jöle İçinde Parça Etli Somonlu Konser...</td>\n",
              "      <td>Kedi</td>\n",
              "      <td>Pet Shop</td>\n",
              "    </tr>\n",
              "    <tr>\n",
              "      <th>2</th>\n",
              "      <td>HBV00000JUHBA</td>\n",
              "      <td>Türkiye Tarım Kredi Koop.Yeşil Mercimek 1 kg</td>\n",
              "      <td>Bakliyat, Pirinç, Makarna</td>\n",
              "      <td>Temel Gıda</td>\n",
              "    </tr>\n",
              "    <tr>\n",
              "      <th>3</th>\n",
              "      <td>HBV00000NE0QI</td>\n",
              "      <td>Namet Fıstıklı Macar Salam 100 gr</td>\n",
              "      <td>Şarküteri</td>\n",
              "      <td>Et, Balık, Şarküteri</td>\n",
              "    </tr>\n",
              "    <tr>\n",
              "      <th>4</th>\n",
              "      <td>HBV00000NE0UQ</td>\n",
              "      <td>Muratbey Burgu Peyniri 250 gr</td>\n",
              "      <td>Peynir</td>\n",
              "      <td>Kahvaltılık ve Süt</td>\n",
              "    </tr>\n",
              "    <tr>\n",
              "      <th>...</th>\n",
              "      <td>...</td>\n",
              "      <td>...</td>\n",
              "      <td>...</td>\n",
              "      <td>...</td>\n",
              "    </tr>\n",
              "    <tr>\n",
              "      <th>10231</th>\n",
              "      <td>ZYHPREISBBKL008</td>\n",
              "      <td>Reis Gönen Baldo Pirinç 1 kg</td>\n",
              "      <td>Bakliyat, Pirinç, Makarna</td>\n",
              "      <td>Temel Gıda</td>\n",
              "    </tr>\n",
              "    <tr>\n",
              "      <th>10232</th>\n",
              "      <td>ZYNES11470137</td>\n",
              "      <td>Nescafé Classic Çözünebilir Kahve 200gr Ekopaket</td>\n",
              "      <td>Kahve</td>\n",
              "      <td>İçecekler</td>\n",
              "    </tr>\n",
              "    <tr>\n",
              "      <th>10233</th>\n",
              "      <td>ZYPAREX1909309</td>\n",
              "      <td>Parex Powerball Çizmez Ovma Teli</td>\n",
              "      <td>Ev Temizlik Ürünleri</td>\n",
              "      <td>Ev Bakım ve Temizlik</td>\n",
              "    </tr>\n",
              "    <tr>\n",
              "      <th>10234</th>\n",
              "      <td>ZYPAREX2107986</td>\n",
              "      <td>Parex Tornado Döner Başlıklı Temizlik Seti</td>\n",
              "      <td>Yüzey Temizleyiciler</td>\n",
              "      <td>Ev Bakım ve Temizlik</td>\n",
              "    </tr>\n",
              "    <tr>\n",
              "      <th>10235</th>\n",
              "      <td>ZYPYON6690</td>\n",
              "      <td>Febreze Kumaş ve Çamaşır Ferahlatıcı Sprey 500...</td>\n",
              "      <td>Oda Kokusu ve Koku Gidericiler</td>\n",
              "      <td>Ev Bakım ve Temizlik</td>\n",
              "    </tr>\n",
              "  </tbody>\n",
              "</table>\n",
              "<p>10236 rows × 4 columns</p>\n",
              "</div>"
            ],
            "text/plain": [
              "            product_id  ...              category\n",
              "0        HBV00000AX6LR  ...         Kişisel Bakım\n",
              "1        HBV00000BSAQG  ...              Pet Shop\n",
              "2        HBV00000JUHBA  ...            Temel Gıda\n",
              "3        HBV00000NE0QI  ...  Et, Balık, Şarküteri\n",
              "4        HBV00000NE0UQ  ...    Kahvaltılık ve Süt\n",
              "...                ...  ...                   ...\n",
              "10231  ZYHPREISBBKL008  ...            Temel Gıda\n",
              "10232    ZYNES11470137  ...             İçecekler\n",
              "10233   ZYPAREX1909309  ...  Ev Bakım ve Temizlik\n",
              "10234   ZYPAREX2107986  ...  Ev Bakım ve Temizlik\n",
              "10235       ZYPYON6690  ...  Ev Bakım ve Temizlik\n",
              "\n",
              "[10236 rows x 4 columns]"
            ]
          },
          "metadata": {},
          "execution_count": 4
        }
      ]
    },
    {
      "cell_type": "code",
      "metadata": {
        "colab": {
          "base_uri": "https://localhost:8080/"
        },
        "id": "TNK2G1Z5oI8C",
        "outputId": "07d9408c-c8f7-4957-cfe6-5ea92fa644a4"
      },
      "source": [
        "# check if there is any null value in prodd\n",
        "products.isnull().values.any()"
      ],
      "execution_count": null,
      "outputs": [
        {
          "output_type": "execute_result",
          "data": {
            "text/plain": [
              "True"
            ]
          },
          "metadata": {},
          "execution_count": 5
        }
      ]
    },
    {
      "cell_type": "code",
      "metadata": {
        "colab": {
          "base_uri": "https://localhost:8080/",
          "height": 424
        },
        "id": "3L30Bjskm-i3",
        "outputId": "1d61c12b-170f-49ca-f57c-43ab60825b89"
      },
      "source": [
        "# delete null values\n",
        "products = products.dropna()\n",
        "products = products.reset_index()\n",
        "del products['index']\n",
        "products"
      ],
      "execution_count": null,
      "outputs": [
        {
          "output_type": "execute_result",
          "data": {
            "text/html": [
              "<div>\n",
              "<style scoped>\n",
              "    .dataframe tbody tr th:only-of-type {\n",
              "        vertical-align: middle;\n",
              "    }\n",
              "\n",
              "    .dataframe tbody tr th {\n",
              "        vertical-align: top;\n",
              "    }\n",
              "\n",
              "    .dataframe thead th {\n",
              "        text-align: right;\n",
              "    }\n",
              "</style>\n",
              "<table border=\"1\" class=\"dataframe\">\n",
              "  <thead>\n",
              "    <tr style=\"text-align: right;\">\n",
              "      <th></th>\n",
              "      <th>product_id</th>\n",
              "      <th>name</th>\n",
              "      <th>subcategory</th>\n",
              "      <th>category</th>\n",
              "    </tr>\n",
              "  </thead>\n",
              "  <tbody>\n",
              "    <tr>\n",
              "      <th>0</th>\n",
              "      <td>HBV00000AX6LR</td>\n",
              "      <td>Palette Kalıcı Doğal Renkler 10-4 PAPATYA</td>\n",
              "      <td>Saç Bakımı</td>\n",
              "      <td>Kişisel Bakım</td>\n",
              "    </tr>\n",
              "    <tr>\n",
              "      <th>1</th>\n",
              "      <td>HBV00000BSAQG</td>\n",
              "      <td>Best Pet Jöle İçinde Parça Etli Somonlu Konser...</td>\n",
              "      <td>Kedi</td>\n",
              "      <td>Pet Shop</td>\n",
              "    </tr>\n",
              "    <tr>\n",
              "      <th>2</th>\n",
              "      <td>HBV00000JUHBA</td>\n",
              "      <td>Türkiye Tarım Kredi Koop.Yeşil Mercimek 1 kg</td>\n",
              "      <td>Bakliyat, Pirinç, Makarna</td>\n",
              "      <td>Temel Gıda</td>\n",
              "    </tr>\n",
              "    <tr>\n",
              "      <th>3</th>\n",
              "      <td>HBV00000NE0QI</td>\n",
              "      <td>Namet Fıstıklı Macar Salam 100 gr</td>\n",
              "      <td>Şarküteri</td>\n",
              "      <td>Et, Balık, Şarküteri</td>\n",
              "    </tr>\n",
              "    <tr>\n",
              "      <th>4</th>\n",
              "      <td>HBV00000NE0UQ</td>\n",
              "      <td>Muratbey Burgu Peyniri 250 gr</td>\n",
              "      <td>Peynir</td>\n",
              "      <td>Kahvaltılık ve Süt</td>\n",
              "    </tr>\n",
              "    <tr>\n",
              "      <th>...</th>\n",
              "      <td>...</td>\n",
              "      <td>...</td>\n",
              "      <td>...</td>\n",
              "      <td>...</td>\n",
              "    </tr>\n",
              "    <tr>\n",
              "      <th>10230</th>\n",
              "      <td>ZYHPREISBBKL008</td>\n",
              "      <td>Reis Gönen Baldo Pirinç 1 kg</td>\n",
              "      <td>Bakliyat, Pirinç, Makarna</td>\n",
              "      <td>Temel Gıda</td>\n",
              "    </tr>\n",
              "    <tr>\n",
              "      <th>10231</th>\n",
              "      <td>ZYNES11470137</td>\n",
              "      <td>Nescafé Classic Çözünebilir Kahve 200gr Ekopaket</td>\n",
              "      <td>Kahve</td>\n",
              "      <td>İçecekler</td>\n",
              "    </tr>\n",
              "    <tr>\n",
              "      <th>10232</th>\n",
              "      <td>ZYPAREX1909309</td>\n",
              "      <td>Parex Powerball Çizmez Ovma Teli</td>\n",
              "      <td>Ev Temizlik Ürünleri</td>\n",
              "      <td>Ev Bakım ve Temizlik</td>\n",
              "    </tr>\n",
              "    <tr>\n",
              "      <th>10233</th>\n",
              "      <td>ZYPAREX2107986</td>\n",
              "      <td>Parex Tornado Döner Başlıklı Temizlik Seti</td>\n",
              "      <td>Yüzey Temizleyiciler</td>\n",
              "      <td>Ev Bakım ve Temizlik</td>\n",
              "    </tr>\n",
              "    <tr>\n",
              "      <th>10234</th>\n",
              "      <td>ZYPYON6690</td>\n",
              "      <td>Febreze Kumaş ve Çamaşır Ferahlatıcı Sprey 500...</td>\n",
              "      <td>Oda Kokusu ve Koku Gidericiler</td>\n",
              "      <td>Ev Bakım ve Temizlik</td>\n",
              "    </tr>\n",
              "  </tbody>\n",
              "</table>\n",
              "<p>10235 rows × 4 columns</p>\n",
              "</div>"
            ],
            "text/plain": [
              "            product_id  ...              category\n",
              "0        HBV00000AX6LR  ...         Kişisel Bakım\n",
              "1        HBV00000BSAQG  ...              Pet Shop\n",
              "2        HBV00000JUHBA  ...            Temel Gıda\n",
              "3        HBV00000NE0QI  ...  Et, Balık, Şarküteri\n",
              "4        HBV00000NE0UQ  ...    Kahvaltılık ve Süt\n",
              "...                ...  ...                   ...\n",
              "10230  ZYHPREISBBKL008  ...            Temel Gıda\n",
              "10231    ZYNES11470137  ...             İçecekler\n",
              "10232   ZYPAREX1909309  ...  Ev Bakım ve Temizlik\n",
              "10233   ZYPAREX2107986  ...  Ev Bakım ve Temizlik\n",
              "10234       ZYPYON6690  ...  Ev Bakım ve Temizlik\n",
              "\n",
              "[10235 rows x 4 columns]"
            ]
          },
          "metadata": {},
          "execution_count": 6
        }
      ]
    },
    {
      "cell_type": "code",
      "metadata": {
        "id": "ZoKpaUQ8nQy3"
      },
      "source": [
        "# compressing name and subcategory for have little bit more features\n",
        "def compress_features(data):\n",
        "    features = []\n",
        "    for i in range(0, data.shape[0]):\n",
        "        datum = data['subcategory'][i] + ', ' + data['name'][i]\n",
        "        features.append(datum)\n",
        "    return features"
      ],
      "execution_count": null,
      "outputs": []
    },
    {
      "cell_type": "code",
      "metadata": {
        "colab": {
          "base_uri": "https://localhost:8080/",
          "height": 424
        },
        "id": "c9qfeLLqogEI",
        "outputId": "346bf90c-8afd-4cb1-bf3a-cd86e51f4dda"
      },
      "source": [
        "products['features'] = compress_features(products)\n",
        "del products['subcategory'], products['name']\n",
        "products"
      ],
      "execution_count": null,
      "outputs": [
        {
          "output_type": "execute_result",
          "data": {
            "text/html": [
              "<div>\n",
              "<style scoped>\n",
              "    .dataframe tbody tr th:only-of-type {\n",
              "        vertical-align: middle;\n",
              "    }\n",
              "\n",
              "    .dataframe tbody tr th {\n",
              "        vertical-align: top;\n",
              "    }\n",
              "\n",
              "    .dataframe thead th {\n",
              "        text-align: right;\n",
              "    }\n",
              "</style>\n",
              "<table border=\"1\" class=\"dataframe\">\n",
              "  <thead>\n",
              "    <tr style=\"text-align: right;\">\n",
              "      <th></th>\n",
              "      <th>product_id</th>\n",
              "      <th>category</th>\n",
              "      <th>features</th>\n",
              "    </tr>\n",
              "  </thead>\n",
              "  <tbody>\n",
              "    <tr>\n",
              "      <th>0</th>\n",
              "      <td>HBV00000AX6LR</td>\n",
              "      <td>Kişisel Bakım</td>\n",
              "      <td>Saç Bakımı, Palette Kalıcı Doğal Renkler 10-4 ...</td>\n",
              "    </tr>\n",
              "    <tr>\n",
              "      <th>1</th>\n",
              "      <td>HBV00000BSAQG</td>\n",
              "      <td>Pet Shop</td>\n",
              "      <td>Kedi, Best Pet Jöle İçinde Parça Etli Somonlu ...</td>\n",
              "    </tr>\n",
              "    <tr>\n",
              "      <th>2</th>\n",
              "      <td>HBV00000JUHBA</td>\n",
              "      <td>Temel Gıda</td>\n",
              "      <td>Bakliyat, Pirinç, Makarna, Türkiye Tarım Kredi...</td>\n",
              "    </tr>\n",
              "    <tr>\n",
              "      <th>3</th>\n",
              "      <td>HBV00000NE0QI</td>\n",
              "      <td>Et, Balık, Şarküteri</td>\n",
              "      <td>Şarküteri, Namet Fıstıklı Macar Salam 100 gr</td>\n",
              "    </tr>\n",
              "    <tr>\n",
              "      <th>4</th>\n",
              "      <td>HBV00000NE0UQ</td>\n",
              "      <td>Kahvaltılık ve Süt</td>\n",
              "      <td>Peynir, Muratbey Burgu Peyniri 250 gr</td>\n",
              "    </tr>\n",
              "    <tr>\n",
              "      <th>...</th>\n",
              "      <td>...</td>\n",
              "      <td>...</td>\n",
              "      <td>...</td>\n",
              "    </tr>\n",
              "    <tr>\n",
              "      <th>10230</th>\n",
              "      <td>ZYHPREISBBKL008</td>\n",
              "      <td>Temel Gıda</td>\n",
              "      <td>Bakliyat, Pirinç, Makarna, Reis Gönen Baldo Pi...</td>\n",
              "    </tr>\n",
              "    <tr>\n",
              "      <th>10231</th>\n",
              "      <td>ZYNES11470137</td>\n",
              "      <td>İçecekler</td>\n",
              "      <td>Kahve, Nescafé Classic Çözünebilir Kahve 200gr...</td>\n",
              "    </tr>\n",
              "    <tr>\n",
              "      <th>10232</th>\n",
              "      <td>ZYPAREX1909309</td>\n",
              "      <td>Ev Bakım ve Temizlik</td>\n",
              "      <td>Ev Temizlik Ürünleri, Parex Powerball Çizmez O...</td>\n",
              "    </tr>\n",
              "    <tr>\n",
              "      <th>10233</th>\n",
              "      <td>ZYPAREX2107986</td>\n",
              "      <td>Ev Bakım ve Temizlik</td>\n",
              "      <td>Yüzey Temizleyiciler, Parex Tornado Döner Başl...</td>\n",
              "    </tr>\n",
              "    <tr>\n",
              "      <th>10234</th>\n",
              "      <td>ZYPYON6690</td>\n",
              "      <td>Ev Bakım ve Temizlik</td>\n",
              "      <td>Oda Kokusu ve Koku Gidericiler, Febreze Kumaş ...</td>\n",
              "    </tr>\n",
              "  </tbody>\n",
              "</table>\n",
              "<p>10235 rows × 3 columns</p>\n",
              "</div>"
            ],
            "text/plain": [
              "            product_id  ...                                           features\n",
              "0        HBV00000AX6LR  ...  Saç Bakımı, Palette Kalıcı Doğal Renkler 10-4 ...\n",
              "1        HBV00000BSAQG  ...  Kedi, Best Pet Jöle İçinde Parça Etli Somonlu ...\n",
              "2        HBV00000JUHBA  ...  Bakliyat, Pirinç, Makarna, Türkiye Tarım Kredi...\n",
              "3        HBV00000NE0QI  ...       Şarküteri, Namet Fıstıklı Macar Salam 100 gr\n",
              "4        HBV00000NE0UQ  ...              Peynir, Muratbey Burgu Peyniri 250 gr\n",
              "...                ...  ...                                                ...\n",
              "10230  ZYHPREISBBKL008  ...  Bakliyat, Pirinç, Makarna, Reis Gönen Baldo Pi...\n",
              "10231    ZYNES11470137  ...  Kahve, Nescafé Classic Çözünebilir Kahve 200gr...\n",
              "10232   ZYPAREX1909309  ...  Ev Temizlik Ürünleri, Parex Powerball Çizmez O...\n",
              "10233   ZYPAREX2107986  ...  Yüzey Temizleyiciler, Parex Tornado Döner Başl...\n",
              "10234       ZYPYON6690  ...  Oda Kokusu ve Koku Gidericiler, Febreze Kumaş ...\n",
              "\n",
              "[10235 rows x 3 columns]"
            ]
          },
          "metadata": {},
          "execution_count": 8
        }
      ]
    },
    {
      "cell_type": "code",
      "metadata": {
        "id": "E8FPsdyvpW14"
      },
      "source": [
        "import string\n",
        "\n",
        "def clean_text(text): \n",
        "    black_list = ['ml', 'gr', 'lt', 'kg']\n",
        "    delete_dict = {sp_character: ' ' for sp_character in string.punctuation} \n",
        "    delete_dict[' '] = ' ' \n",
        "    table = str.maketrans(delete_dict)\n",
        "    text1 = text.translate(table)\n",
        "    textArr= text1.split()\n",
        "    text2 = ' '.join([w for w in textArr if ( not w.isdigit() and  ( not w.isdigit() and len(w)>1))]) \n",
        "    text2 = text2.split(' ')\n",
        "    text2 = ' '.join([word for word in text2 if (word not in black_list)])\n",
        "    #print(text2)\n",
        "    return text2.lower()\n",
        "\n",
        "products['clean_features'] = products['features'].apply(clean_text)"
      ],
      "execution_count": null,
      "outputs": []
    },
    {
      "cell_type": "code",
      "metadata": {
        "colab": {
          "base_uri": "https://localhost:8080/"
        },
        "id": "CkRHitchqsmE",
        "outputId": "fa963aaf-deae-4436-c6df-ce9bfd2e4045"
      },
      "source": [
        "max_len = 0\n",
        "for name in products['clean_features']:\n",
        "    if len(name)>max_len:\n",
        "        max_len = len(name)\n",
        "        name2 = name\n",
        "print('max lenght is ', max_len)\n",
        "print('The string is ', name2)\n"
      ],
      "execution_count": null,
      "outputs": [
        {
          "output_type": "stream",
          "name": "stdout",
          "text": [
            "max lenght is  131\n",
            "The string is  çamaşır yıkama omo sıvı çamaşır deterjanı active beyazlar ve renkliler i̇çin en zorlu lekeleri i̇lk yıkamada çıkarır ml yıkama adet\n"
          ]
        }
      ]
    },
    {
      "cell_type": "code",
      "metadata": {
        "colab": {
          "base_uri": "https://localhost:8080/"
        },
        "id": "T-1EfpO5qzFn",
        "outputId": "8e96e9bd-0915-4c2d-aee7-5d5f44e8f8f6"
      },
      "source": [
        "print('Number of category \\t', products.category.nunique())\n",
        "print('Numver of product \\t', products.product_id.nunique())"
      ],
      "execution_count": null,
      "outputs": [
        {
          "output_type": "stream",
          "name": "stdout",
          "text": [
            "Number of category \t 20\n",
            "Numver of product \t 10235\n"
          ]
        }
      ]
    },
    {
      "cell_type": "code",
      "metadata": {
        "id": "mS3TwJH7wr-H"
      },
      "source": [
        "products.to_pickle('/content/drive/MyDrive/products')"
      ],
      "execution_count": null,
      "outputs": []
    },
    {
      "cell_type": "markdown",
      "metadata": {
        "id": "tB8JbPwqwHRO"
      },
      "source": [
        "# Model training"
      ]
    },
    {
      "cell_type": "code",
      "metadata": {
        "id": "GFt3jFhtras6"
      },
      "source": [
        "import gensim\n",
        "from gensim.models.callbacks import CallbackAny2Vec\n",
        "from gensim.models import Word2Vec\n",
        "\n",
        "# init callback class\n",
        "class my_callback(CallbackAny2Vec):\n",
        "    \"\"\"\n",
        "    Callback to print loss after each epoch\n",
        "    \"\"\"\n",
        "    def __init__(self):\n",
        "        self.epoch = 0\n",
        "\n",
        "    def on_epoch_end(self, model):\n",
        "        loss = model.get_latest_training_loss()\n",
        "        \n",
        "        if self.epoch == 0:\n",
        "            print('Loss after epoch {}: {}'.format(self.epoch, loss))\n",
        "        elif self.epoch % 100 == 0:\n",
        "            print('Loss after epoch {}: {}'.format(self.epoch, loss- self.loss_previous_step))\n",
        "        \n",
        "        \n",
        "        self.epoch += 1\n",
        "        self.loss_previous_step = loss"
      ],
      "execution_count": null,
      "outputs": []
    },
    {
      "cell_type": "code",
      "metadata": {
        "id": "x2L_CZ1JsPP_"
      },
      "source": [
        "train_data = products.clean_features.to_list()\n",
        "for i, data in enumerate(train_data):\n",
        "    data = data.split(' ')\n",
        "    train_data[i] = data"
      ],
      "execution_count": null,
      "outputs": []
    },
    {
      "cell_type": "code",
      "metadata": {
        "colab": {
          "base_uri": "https://localhost:8080/"
        },
        "id": "G4G-RWZxsJdp",
        "outputId": "4c5e9a2b-72fc-48f5-9e4e-6ed34715e1ef"
      },
      "source": [
        "import time\n",
        "# init word2vec class\n",
        "w2v_model = Word2Vec(sentences=train_data, size=300, window=5, min_count=1, workers=4, sample=1e-5, sg=1)\n",
        "\n",
        "# build vocab\n",
        "w2v_model.build_vocab(train_data, update=True)\n",
        "\n",
        "# train the w2v model\n",
        "start = time.time()\n",
        "w2v_model.train(train_data, \n",
        "                total_examples=w2v_model.corpus_count, \n",
        "                epochs=10001, \n",
        "                report_delay=1,\n",
        "                compute_loss = True, \n",
        "                callbacks=[my_callback()]) # add the callback class\n",
        "end = time.time()\n",
        "\n",
        "print(\"elapsedtime in seconds :\"+ str(end - start))\n",
        "# save the word2vec model\n",
        "w2v_model.save('/content/drive/MyDrive/hepsi_burada_word2vec.model')"
      ],
      "execution_count": null,
      "outputs": [
        {
          "output_type": "stream",
          "name": "stdout",
          "text": [
            "Loss after epoch 0: 35873.140625\n",
            "Loss after epoch 100: 8120.375\n",
            "Loss after epoch 200: 2933.75\n",
            "Loss after epoch 300: 1658.0\n",
            "Loss after epoch 400: 1952.5\n",
            "Loss after epoch 500: 2229.5\n",
            "Loss after epoch 600: 1643.25\n",
            "Loss after epoch 700: 2172.25\n",
            "Loss after epoch 800: 1430.75\n",
            "Loss after epoch 900: 1638.5\n",
            "Loss after epoch 1000: 1528.0\n",
            "Loss after epoch 1100: 1581.75\n",
            "Loss after epoch 1200: 1198.5\n",
            "Loss after epoch 1300: 2064.0\n",
            "Loss after epoch 1400: 1431.0\n",
            "Loss after epoch 1500: 1596.5\n",
            "Loss after epoch 1600: 1511.0\n",
            "Loss after epoch 1700: 2197.0\n",
            "Loss after epoch 1800: 2266.0\n",
            "Loss after epoch 1900: 1791.0\n",
            "Loss after epoch 2000: 1559.0\n",
            "Loss after epoch 2100: 1499.0\n",
            "Loss after epoch 2200: 1038.5\n",
            "Loss after epoch 2300: 1576.5\n",
            "Loss after epoch 2400: 1394.0\n",
            "Loss after epoch 2500: 1414.5\n",
            "Loss after epoch 2600: 1418.0\n",
            "Loss after epoch 2700: 1180.0\n",
            "Loss after epoch 2800: 1495.5\n",
            "Loss after epoch 2900: 1403.0\n",
            "Loss after epoch 3000: 1509.5\n",
            "Loss after epoch 3100: 1498.5\n",
            "Loss after epoch 3200: 2221.5\n",
            "Loss after epoch 3300: 1829.5\n",
            "Loss after epoch 3400: 1518.0\n",
            "Loss after epoch 3500: 1454.5\n",
            "Loss after epoch 3600: 2112.5\n",
            "Loss after epoch 3700: 2126.0\n",
            "Loss after epoch 3800: 2070.5\n",
            "Loss after epoch 3900: 1459.5\n",
            "Loss after epoch 4000: 1329.0\n",
            "Loss after epoch 4100: 1400.0\n",
            "Loss after epoch 4200: 2038.0\n",
            "Loss after epoch 4300: 1300.0\n",
            "Loss after epoch 4400: 1747.0\n",
            "Loss after epoch 4500: 1886.0\n",
            "Loss after epoch 4600: 1101.0\n",
            "Loss after epoch 4700: 1311.0\n",
            "Loss after epoch 4800: 1267.0\n",
            "Loss after epoch 4900: 1218.0\n",
            "Loss after epoch 5000: 977.0\n",
            "Loss after epoch 5100: 1285.0\n",
            "Loss after epoch 5200: 1567.0\n",
            "Loss after epoch 5300: 1752.0\n",
            "Loss after epoch 5400: 1354.0\n",
            "Loss after epoch 5500: 1271.0\n",
            "Loss after epoch 5600: 1692.0\n",
            "Loss after epoch 5700: 1620.0\n",
            "Loss after epoch 5800: 1538.0\n",
            "Loss after epoch 5900: 1196.0\n",
            "Loss after epoch 6000: 1332.0\n",
            "Loss after epoch 6100: 1308.0\n",
            "Loss after epoch 6200: 1150.0\n",
            "Loss after epoch 6300: 1265.0\n",
            "Loss after epoch 6400: 1615.0\n",
            "Loss after epoch 6500: 1308.0\n",
            "Loss after epoch 6600: 2046.0\n",
            "Loss after epoch 6700: 915.0\n",
            "Loss after epoch 6800: 1196.0\n",
            "Loss after epoch 6900: 954.0\n",
            "Loss after epoch 7000: 935.0\n",
            "Loss after epoch 7100: 1470.0\n",
            "Loss after epoch 7200: 1734.0\n",
            "Loss after epoch 7300: 1078.0\n",
            "Loss after epoch 7400: 1339.0\n",
            "Loss after epoch 7500: 1471.0\n",
            "Loss after epoch 7600: 1272.0\n",
            "Loss after epoch 7700: 1254.0\n",
            "Loss after epoch 7800: 1182.0\n",
            "Loss after epoch 7900: 1735.0\n",
            "Loss after epoch 8000: 1875.0\n",
            "Loss after epoch 8100: 1244.0\n",
            "Loss after epoch 8200: 1447.0\n",
            "Loss after epoch 8300: 1222.0\n",
            "Loss after epoch 8400: 1863.0\n",
            "Loss after epoch 8500: 1179.0\n",
            "Loss after epoch 8600: 1255.0\n",
            "Loss after epoch 8700: 2013.0\n",
            "Loss after epoch 8800: 997.0\n",
            "Loss after epoch 8900: 1628.0\n",
            "Loss after epoch 9000: 1170.0\n",
            "Loss after epoch 9100: 1313.0\n",
            "Loss after epoch 9200: 1250.0\n",
            "Loss after epoch 9300: 1137.0\n",
            "Loss after epoch 9400: 891.0\n",
            "Loss after epoch 9500: 1167.0\n",
            "Loss after epoch 9600: 1933.0\n",
            "Loss after epoch 9700: 1194.0\n",
            "Loss after epoch 9800: 1237.0\n",
            "Loss after epoch 9900: 1574.0\n",
            "Loss after epoch 10000: 1242.0\n",
            "elapsedtime in seconds :441.84899640083313\n"
          ]
        }
      ]
    },
    {
      "cell_type": "code",
      "metadata": {
        "id": "Cu8RDGQNs_I6"
      },
      "source": [
        "w2v_model.callbacks = ()\n",
        "w2v_model.save('/content/drive/MyDrive/den_hepsi_burada_word2vec.model')"
      ],
      "execution_count": null,
      "outputs": []
    },
    {
      "cell_type": "markdown",
      "metadata": {
        "id": "fzW0uVwTwczO"
      },
      "source": [
        "# Load and try the model"
      ]
    },
    {
      "cell_type": "code",
      "metadata": {
        "id": "7AgCoPlEwEJh",
        "colab": {
          "base_uri": "https://localhost:8080/"
        },
        "outputId": "324b8b02-ea52-418b-e949-73449e5846c1"
      },
      "source": [
        "!pip3 install pickle5\n",
        "import pickle5 as pickle"
      ],
      "execution_count": 1,
      "outputs": [
        {
          "output_type": "stream",
          "name": "stdout",
          "text": [
            "Collecting pickle5\n",
            "  Downloading pickle5-0.0.11.tar.gz (132 kB)\n",
            "\u001b[?25l\r\u001b[K     |██▌                             | 10 kB 23.4 MB/s eta 0:00:01\r\u001b[K     |█████                           | 20 kB 29.5 MB/s eta 0:00:01\r\u001b[K     |███████▍                        | 30 kB 12.1 MB/s eta 0:00:01\r\u001b[K     |██████████                      | 40 kB 9.6 MB/s eta 0:00:01\r\u001b[K     |████████████▍                   | 51 kB 5.1 MB/s eta 0:00:01\r\u001b[K     |██████████████▉                 | 61 kB 5.2 MB/s eta 0:00:01\r\u001b[K     |█████████████████▍              | 71 kB 5.8 MB/s eta 0:00:01\r\u001b[K     |███████████████████▉            | 81 kB 6.4 MB/s eta 0:00:01\r\u001b[K     |██████████████████████▎         | 92 kB 4.7 MB/s eta 0:00:01\r\u001b[K     |████████████████████████▉       | 102 kB 5.0 MB/s eta 0:00:01\r\u001b[K     |███████████████████████████▎    | 112 kB 5.0 MB/s eta 0:00:01\r\u001b[K     |█████████████████████████████▊  | 122 kB 5.0 MB/s eta 0:00:01\r\u001b[K     |████████████████████████████████| 132 kB 5.0 MB/s \n",
            "\u001b[?25hBuilding wheels for collected packages: pickle5\n",
            "  Building wheel for pickle5 (setup.py) ... \u001b[?25l\u001b[?25hdone\n",
            "  Created wheel for pickle5: filename=pickle5-0.0.11-cp37-cp37m-linux_x86_64.whl size=219284 sha256=4399f7c1955762e460358f82fb0fc032916f61fafb8bf405164d8c6488836581\n",
            "  Stored in directory: /root/.cache/pip/wheels/7e/6a/00/67136a90d6aca437d806d1d3cedf98106e840c97a3e5188198\n",
            "Successfully built pickle5\n",
            "Installing collected packages: pickle5\n",
            "Successfully installed pickle5-0.0.11\n"
          ]
        }
      ]
    },
    {
      "cell_type": "code",
      "metadata": {
        "id": "6RhSmfMCwgMm"
      },
      "source": [
        "#  load data\n",
        "def load_data(path):\n",
        "    with open(path, 'rb') as handle:\n",
        "        data = pickle.load(handle)\n",
        "    return data\n",
        "\n",
        "products = load_data('/content/drive/MyDrive/products')"
      ],
      "execution_count": 6,
      "outputs": []
    },
    {
      "cell_type": "code",
      "metadata": {
        "id": "2aJf5eOWxO1t"
      },
      "source": [
        "from gensim.models import Word2Vec # you can delete this later. That code duplicated \n",
        "model = Word2Vec.load('/content/drive/MyDrive/den_hepsi_burada_word2vec.model')    "
      ],
      "execution_count": 11,
      "outputs": []
    },
    {
      "cell_type": "code",
      "metadata": {
        "colab": {
          "base_uri": "https://localhost:8080/",
          "height": 206
        },
        "id": "whQmBgV14H8i",
        "outputId": "063dc137-faa9-40dd-fb8d-bdc8faa50fff"
      },
      "source": [
        "products.head()"
      ],
      "execution_count": 39,
      "outputs": [
        {
          "output_type": "execute_result",
          "data": {
            "text/html": [
              "<div>\n",
              "<style scoped>\n",
              "    .dataframe tbody tr th:only-of-type {\n",
              "        vertical-align: middle;\n",
              "    }\n",
              "\n",
              "    .dataframe tbody tr th {\n",
              "        vertical-align: top;\n",
              "    }\n",
              "\n",
              "    .dataframe thead th {\n",
              "        text-align: right;\n",
              "    }\n",
              "</style>\n",
              "<table border=\"1\" class=\"dataframe\">\n",
              "  <thead>\n",
              "    <tr style=\"text-align: right;\">\n",
              "      <th></th>\n",
              "      <th>product_id</th>\n",
              "      <th>category</th>\n",
              "      <th>features</th>\n",
              "      <th>clean_features</th>\n",
              "    </tr>\n",
              "  </thead>\n",
              "  <tbody>\n",
              "    <tr>\n",
              "      <th>0</th>\n",
              "      <td>HBV00000AX6LR</td>\n",
              "      <td>Kişisel Bakım</td>\n",
              "      <td>Saç Bakımı, Palette Kalıcı Doğal Renkler 10-4 ...</td>\n",
              "      <td>saç bakımı palette kalıcı doğal renkler papatya</td>\n",
              "    </tr>\n",
              "    <tr>\n",
              "      <th>1</th>\n",
              "      <td>HBV00000BSAQG</td>\n",
              "      <td>Pet Shop</td>\n",
              "      <td>Kedi, Best Pet Jöle İçinde Parça Etli Somonlu ...</td>\n",
              "      <td>kedi best pet jöle i̇çinde parça etli somonlu ...</td>\n",
              "    </tr>\n",
              "    <tr>\n",
              "      <th>2</th>\n",
              "      <td>HBV00000JUHBA</td>\n",
              "      <td>Temel Gıda</td>\n",
              "      <td>Bakliyat, Pirinç, Makarna, Türkiye Tarım Kredi...</td>\n",
              "      <td>bakliyat pirinç makarna türkiye tarım kredi ko...</td>\n",
              "    </tr>\n",
              "    <tr>\n",
              "      <th>3</th>\n",
              "      <td>HBV00000NE0QI</td>\n",
              "      <td>Et, Balık, Şarküteri</td>\n",
              "      <td>Şarküteri, Namet Fıstıklı Macar Salam 100 gr</td>\n",
              "      <td>şarküteri namet fıstıklı macar salam</td>\n",
              "    </tr>\n",
              "    <tr>\n",
              "      <th>4</th>\n",
              "      <td>HBV00000NE0UQ</td>\n",
              "      <td>Kahvaltılık ve Süt</td>\n",
              "      <td>Peynir, Muratbey Burgu Peyniri 250 gr</td>\n",
              "      <td>peynir muratbey burgu peyniri</td>\n",
              "    </tr>\n",
              "  </tbody>\n",
              "</table>\n",
              "</div>"
            ],
            "text/plain": [
              "      product_id  ...                                     clean_features\n",
              "0  HBV00000AX6LR  ...    saç bakımı palette kalıcı doğal renkler papatya\n",
              "1  HBV00000BSAQG  ...  kedi best pet jöle i̇çinde parça etli somonlu ...\n",
              "2  HBV00000JUHBA  ...  bakliyat pirinç makarna türkiye tarım kredi ko...\n",
              "3  HBV00000NE0QI  ...               şarküteri namet fıstıklı macar salam\n",
              "4  HBV00000NE0UQ  ...                      peynir muratbey burgu peyniri\n",
              "\n",
              "[5 rows x 4 columns]"
            ]
          },
          "metadata": {},
          "execution_count": 39
        }
      ]
    },
    {
      "cell_type": "code",
      "metadata": {
        "colab": {
          "base_uri": "https://localhost:8080/"
        },
        "id": "Wjd_vgGKxYBF",
        "outputId": "2b029452-a6ef-45e3-dbd9-c4823568f8d9"
      },
      "source": [
        "words = list(model.wv.vocab)\n",
        "print('Vocab size: ' + str(len(words)))"
      ],
      "execution_count": 12,
      "outputs": [
        {
          "output_type": "stream",
          "name": "stdout",
          "text": [
            "Vocab size: 6110\n"
          ]
        }
      ]
    },
    {
      "cell_type": "code",
      "metadata": {
        "id": "2LPVxx_rxZvK"
      },
      "source": [
        "import string\n",
        "\n",
        "def clean_text(text):\n",
        "    clean_list = []\n",
        "    for item in text:\n",
        "        black_list = ['ml', 'gr', 'lt', 'kg']\n",
        "        delete_dict = {sp_character: ' ' for sp_character in string.punctuation} \n",
        "        delete_dict[' '] = ' ' \n",
        "        table = str.maketrans(delete_dict)\n",
        "        text1 = item.translate(table)\n",
        "        textArr= text1.split()\n",
        "        text2 = ' '.join([w for w in textArr if ( not w.isdigit() and  ( not w.isdigit() and len(w)>1))]) \n",
        "        text2 = text2.split(' ')\n",
        "        text2 = ' '.join([word for word in text2 if (word not in black_list)])\n",
        "        clean_list.append(text2.lower())\n",
        "    return clean_list"
      ],
      "execution_count": 16,
      "outputs": []
    },
    {
      "cell_type": "code",
      "metadata": {
        "colab": {
          "base_uri": "https://localhost:8080/",
          "height": 34
        },
        "id": "CnakSK6LxcRv",
        "outputId": "4cad7b2b-1458-4772-b6b9-f1a5ddeedfbd"
      },
      "source": [
        "products.features[10232]"
      ],
      "execution_count": 21,
      "outputs": [
        {
          "output_type": "execute_result",
          "data": {
            "application/vnd.google.colaboratory.intrinsic+json": {
              "type": "string"
            },
            "text/plain": [
              "'Ev Temizlik Ürünleri, Parex Powerball Çizmez Ovma Teli'"
            ]
          },
          "metadata": {},
          "execution_count": 21
        }
      ]
    },
    {
      "cell_type": "code",
      "metadata": {
        "id": "waVM60ltyTSV"
      },
      "source": [
        "cart = ['şarküteri namet fıstıklı macar salam', 'peynir muratbey burgu peyniri']"
      ],
      "execution_count": 88,
      "outputs": []
    },
    {
      "cell_type": "code",
      "metadata": {
        "id": "cLiZcuyDyoYw"
      },
      "source": [
        "clean_cart = clean_text(cart)"
      ],
      "execution_count": 89,
      "outputs": []
    },
    {
      "cell_type": "code",
      "metadata": {
        "id": "Dy9jRKieyzma"
      },
      "source": [
        "import numpy as np\n",
        "\n",
        "def get_cart_avg(data):\n",
        "    '''\n",
        "    data: list of text\n",
        "    '''\n",
        "    cart_vectors = np.zeros((300,))\n",
        "    c = 0 \n",
        "    for sent in data:\n",
        "        sent = sent.split(' ')\n",
        "        for word in sent:\n",
        "            word_vector = model.wv.get_vector(word)\n",
        "            cart_vectors += word_vector\n",
        "            c += 1\n",
        "    return cart_vectors / c"
      ],
      "execution_count": 90,
      "outputs": []
    },
    {
      "cell_type": "code",
      "metadata": {
        "colab": {
          "base_uri": "https://localhost:8080/"
        },
        "id": "adhj_CIc1Oi6",
        "outputId": "41c33e16-4050-4756-f4e8-bc43600d249a"
      },
      "source": [
        "avg_cart = get_cart_avg(clean_cart)\n",
        "avg_cart.shape"
      ],
      "execution_count": 91,
      "outputs": [
        {
          "output_type": "execute_result",
          "data": {
            "text/plain": [
              "(300,)"
            ]
          },
          "metadata": {},
          "execution_count": 91
        }
      ]
    },
    {
      "cell_type": "code",
      "metadata": {
        "colab": {
          "base_uri": "https://localhost:8080/",
          "height": 424
        },
        "id": "rCxho_6z4juf",
        "outputId": "ef7b4eff-c589-4331-bf2a-24da82c7da55"
      },
      "source": [
        "avg_products = []\n",
        "for i in range(products.shape[0]):\n",
        "    avg_product = get_cart_avg([products.clean_features[i]])\n",
        "    avg_products.append(avg_product)\n",
        "products['avg'] = avg_products\n",
        "products"
      ],
      "execution_count": 92,
      "outputs": [
        {
          "output_type": "execute_result",
          "data": {
            "text/html": [
              "<div>\n",
              "<style scoped>\n",
              "    .dataframe tbody tr th:only-of-type {\n",
              "        vertical-align: middle;\n",
              "    }\n",
              "\n",
              "    .dataframe tbody tr th {\n",
              "        vertical-align: top;\n",
              "    }\n",
              "\n",
              "    .dataframe thead th {\n",
              "        text-align: right;\n",
              "    }\n",
              "</style>\n",
              "<table border=\"1\" class=\"dataframe\">\n",
              "  <thead>\n",
              "    <tr style=\"text-align: right;\">\n",
              "      <th></th>\n",
              "      <th>product_id</th>\n",
              "      <th>category</th>\n",
              "      <th>features</th>\n",
              "      <th>clean_features</th>\n",
              "      <th>avg</th>\n",
              "    </tr>\n",
              "  </thead>\n",
              "  <tbody>\n",
              "    <tr>\n",
              "      <th>0</th>\n",
              "      <td>HBV00000AX6LR</td>\n",
              "      <td>Kişisel Bakım</td>\n",
              "      <td>Saç Bakımı, Palette Kalıcı Doğal Renkler 10-4 ...</td>\n",
              "      <td>saç bakımı palette kalıcı doğal renkler papatya</td>\n",
              "      <td>[-0.10433321107744373, -0.40376642772129606, 0...</td>\n",
              "    </tr>\n",
              "    <tr>\n",
              "      <th>1</th>\n",
              "      <td>HBV00000BSAQG</td>\n",
              "      <td>Pet Shop</td>\n",
              "      <td>Kedi, Best Pet Jöle İçinde Parça Etli Somonlu ...</td>\n",
              "      <td>kedi best pet jöle i̇çinde parça etli somonlu ...</td>\n",
              "      <td>[-0.5698804662873348, -0.02613970699409644, 0....</td>\n",
              "    </tr>\n",
              "    <tr>\n",
              "      <th>2</th>\n",
              "      <td>HBV00000JUHBA</td>\n",
              "      <td>Temel Gıda</td>\n",
              "      <td>Bakliyat, Pirinç, Makarna, Türkiye Tarım Kredi...</td>\n",
              "      <td>bakliyat pirinç makarna türkiye tarım kredi ko...</td>\n",
              "      <td>[-0.3286075004272991, -0.37011471385550165, -0...</td>\n",
              "    </tr>\n",
              "    <tr>\n",
              "      <th>3</th>\n",
              "      <td>HBV00000NE0QI</td>\n",
              "      <td>Et, Balık, Şarküteri</td>\n",
              "      <td>Şarküteri, Namet Fıstıklı Macar Salam 100 gr</td>\n",
              "      <td>şarküteri namet fıstıklı macar salam</td>\n",
              "      <td>[0.11705920174717903, -0.36727973222732546, 0....</td>\n",
              "    </tr>\n",
              "    <tr>\n",
              "      <th>4</th>\n",
              "      <td>HBV00000NE0UQ</td>\n",
              "      <td>Kahvaltılık ve Süt</td>\n",
              "      <td>Peynir, Muratbey Burgu Peyniri 250 gr</td>\n",
              "      <td>peynir muratbey burgu peyniri</td>\n",
              "      <td>[-0.6765416376292706, -0.31077154632657766, -0...</td>\n",
              "    </tr>\n",
              "    <tr>\n",
              "      <th>...</th>\n",
              "      <td>...</td>\n",
              "      <td>...</td>\n",
              "      <td>...</td>\n",
              "      <td>...</td>\n",
              "      <td>...</td>\n",
              "    </tr>\n",
              "    <tr>\n",
              "      <th>10230</th>\n",
              "      <td>ZYHPREISBBKL008</td>\n",
              "      <td>Temel Gıda</td>\n",
              "      <td>Bakliyat, Pirinç, Makarna, Reis Gönen Baldo Pi...</td>\n",
              "      <td>bakliyat pirinç makarna reis gönen baldo pirinç</td>\n",
              "      <td>[-0.23651108784335, -0.2668937166620578, -0.06...</td>\n",
              "    </tr>\n",
              "    <tr>\n",
              "      <th>10231</th>\n",
              "      <td>ZYNES11470137</td>\n",
              "      <td>İçecekler</td>\n",
              "      <td>Kahve, Nescafé Classic Çözünebilir Kahve 200gr...</td>\n",
              "      <td>kahve nescafé classic çözünebilir kahve 200gr ...</td>\n",
              "      <td>[-0.2725622398512704, -0.19013077127082006, 0....</td>\n",
              "    </tr>\n",
              "    <tr>\n",
              "      <th>10232</th>\n",
              "      <td>ZYPAREX1909309</td>\n",
              "      <td>Ev Bakım ve Temizlik</td>\n",
              "      <td>Ev Temizlik Ürünleri, Parex Powerball Çizmez O...</td>\n",
              "      <td>ev temizlik ürünleri parex powerball çizmez ov...</td>\n",
              "      <td>[-0.08983673580223694, -0.33764087967574596, 0...</td>\n",
              "    </tr>\n",
              "    <tr>\n",
              "      <th>10233</th>\n",
              "      <td>ZYPAREX2107986</td>\n",
              "      <td>Ev Bakım ve Temizlik</td>\n",
              "      <td>Yüzey Temizleyiciler, Parex Tornado Döner Başl...</td>\n",
              "      <td>yüzey temizleyiciler parex tornado döner başlı...</td>\n",
              "      <td>[-0.3365426016971469, -0.3512522731907666, 0.2...</td>\n",
              "    </tr>\n",
              "    <tr>\n",
              "      <th>10234</th>\n",
              "      <td>ZYPYON6690</td>\n",
              "      <td>Ev Bakım ve Temizlik</td>\n",
              "      <td>Oda Kokusu ve Koku Gidericiler, Febreze Kumaş ...</td>\n",
              "      <td>oda kokusu ve koku gidericiler febreze kumaş v...</td>\n",
              "      <td>[-0.21899338392540812, -0.36698101212580997, 0...</td>\n",
              "    </tr>\n",
              "  </tbody>\n",
              "</table>\n",
              "<p>10235 rows × 5 columns</p>\n",
              "</div>"
            ],
            "text/plain": [
              "            product_id  ...                                                avg\n",
              "0        HBV00000AX6LR  ...  [-0.10433321107744373, -0.40376642772129606, 0...\n",
              "1        HBV00000BSAQG  ...  [-0.5698804662873348, -0.02613970699409644, 0....\n",
              "2        HBV00000JUHBA  ...  [-0.3286075004272991, -0.37011471385550165, -0...\n",
              "3        HBV00000NE0QI  ...  [0.11705920174717903, -0.36727973222732546, 0....\n",
              "4        HBV00000NE0UQ  ...  [-0.6765416376292706, -0.31077154632657766, -0...\n",
              "...                ...  ...                                                ...\n",
              "10230  ZYHPREISBBKL008  ...  [-0.23651108784335, -0.2668937166620578, -0.06...\n",
              "10231    ZYNES11470137  ...  [-0.2725622398512704, -0.19013077127082006, 0....\n",
              "10232   ZYPAREX1909309  ...  [-0.08983673580223694, -0.33764087967574596, 0...\n",
              "10233   ZYPAREX2107986  ...  [-0.3365426016971469, -0.3512522731907666, 0.2...\n",
              "10234       ZYPYON6690  ...  [-0.21899338392540812, -0.36698101212580997, 0...\n",
              "\n",
              "[10235 rows x 5 columns]"
            ]
          },
          "metadata": {},
          "execution_count": 92
        }
      ]
    },
    {
      "cell_type": "code",
      "metadata": {
        "colab": {
          "base_uri": "https://localhost:8080/"
        },
        "id": "50KHWxaN5Gs7",
        "outputId": "b6422d9d-2f59-4bb9-b4e8-358791747948"
      },
      "source": [
        "from sklearn.metrics.pairwise import cosine_similarity\n",
        "cosine_similarity(products.avg[10233].reshape(1,-1), products.avg[10232].reshape(1,-1))"
      ],
      "execution_count": 93,
      "outputs": [
        {
          "output_type": "execute_result",
          "data": {
            "text/plain": [
              "array([[0.71324077]])"
            ]
          },
          "metadata": {},
          "execution_count": 93
        }
      ]
    },
    {
      "cell_type": "code",
      "metadata": {
        "id": "SxjMKLjM5Whh"
      },
      "source": [
        "similar = []\n",
        "for i in range(len(products)):\n",
        "    similarity = cosine_similarity(avg_cart.reshape(1,-1), products.avg[i].reshape(1,-1))\n",
        "    if similarity > 0.8:\n",
        "        item = {\n",
        "            'productName':products.features[i],\n",
        "            'similarity':similarity\n",
        "        }\n",
        "        similar.append(item)"
      ],
      "execution_count": 98,
      "outputs": []
    },
    {
      "cell_type": "code",
      "metadata": {
        "colab": {
          "base_uri": "https://localhost:8080/"
        },
        "id": "mGjovp_HDpt_",
        "outputId": "a73c1840-c529-49e2-dbf6-0f836ae8108e"
      },
      "source": [
        "recommended = sorted(similar, key = lambda i: i['similarity'], reverse=True)\n",
        "recommended[:10] "
      ],
      "execution_count": 108,
      "outputs": [
        {
          "output_type": "execute_result",
          "data": {
            "text/plain": [
              "[{'productName': 'Şarküteri, Namet Fıstıklı Macar Salam 100 gr',\n",
              "  'similarity': array([[0.88740049]])},\n",
              " {'productName': 'Şarküteri, Namet Macar Salam 100 gr',\n",
              "  'similarity': array([[0.8848124]])},\n",
              " {'productName': 'Şarküteri, Namet Dilimli Fıstıklı Salam 150 gr',\n",
              "  'similarity': array([[0.88009244]])},\n",
              " {'productName': 'Şarküteri, Namet Dilimli Dana Macar Salam 200 gr',\n",
              "  'similarity': array([[0.87193235]])},\n",
              " {'productName': 'Şarküteri, Namet Dilli Salam 100 gr',\n",
              "  'similarity': array([[0.86852831]])},\n",
              " {'productName': 'Şarküteri, Namet 7/24 Dana Macar Salam 60 gr',\n",
              "  'similarity': array([[0.86510584]])},\n",
              " {'productName': 'Şarküteri, Polonez Macar Salam Fıstıklı 100 gr',\n",
              "  'similarity': array([[0.86452803]])},\n",
              " {'productName': 'Şarküteri, Namet Dana Karabiberli-Fıstıklı Salam 100 gr',\n",
              "  'similarity': array([[0.85931032]])},\n",
              " {'productName': 'Şarküteri, Polonez Macar Salam 110 g',\n",
              "  'similarity': array([[0.85442593]])},\n",
              " {'productName': 'Şarküteri, Polonez Macar Salam 100 gr',\n",
              "  'similarity': array([[0.85442593]])}]"
            ]
          },
          "metadata": {},
          "execution_count": 108
        }
      ]
    },
    {
      "cell_type": "code",
      "metadata": {
        "colab": {
          "base_uri": "https://localhost:8080/"
        },
        "id": "lrgbu5HlIdNT",
        "outputId": "c9c1e19d-8e58-418d-e550-8fe5b4e027c5"
      },
      "source": [
        "cart"
      ],
      "execution_count": 107,
      "outputs": [
        {
          "output_type": "execute_result",
          "data": {
            "text/plain": [
              "['şarküteri namet fıstıklı macar salam', 'peynir muratbey burgu peyniri']"
            ]
          },
          "metadata": {},
          "execution_count": 107
        }
      ]
    },
    {
      "cell_type": "code",
      "metadata": {
        "id": "1OVY-AwUKEzx"
      },
      "source": [
        ""
      ],
      "execution_count": null,
      "outputs": []
    }
  ]
}